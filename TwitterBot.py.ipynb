{
 "cells": [
  {
   "cell_type": "code",
   "execution_count": 5,
   "metadata": {},
   "outputs": [
    {
     "ename": "NameError",
     "evalue": "name 'last_seen' is not defined",
     "output_type": "error",
     "traceback": [
      "\u001b[0;31m---------------------------------------------------------------------------\u001b[0m",
      "\u001b[0;31mNameError\u001b[0m                                 Traceback (most recent call last)",
      "\u001b[0;32m<ipython-input-5-9274bdf20b22>\u001b[0m in \u001b[0;36m<module>\u001b[0;34m\u001b[0m\n\u001b[1;32m     19\u001b[0m \u001b[0;31m# a text file created to store the last stored tweet id as not to create a loop of messaging every tweet\u001b[0m\u001b[0;34m\u001b[0m\u001b[0;34m\u001b[0m\u001b[0;34m\u001b[0m\u001b[0m\n\u001b[1;32m     20\u001b[0m \u001b[0mFILE_Name\u001b[0m \u001b[0;34m=\u001b[0m \u001b[0mos\u001b[0m\u001b[0;34m.\u001b[0m\u001b[0mpath\u001b[0m\u001b[0;34m.\u001b[0m\u001b[0mabspath\u001b[0m\u001b[0;34m(\u001b[0m\u001b[0;34m\"last_seen.txt\"\u001b[0m\u001b[0;34m)\u001b[0m\u001b[0;34m\u001b[0m\u001b[0;34m\u001b[0m\u001b[0m\n\u001b[0;32m---> 21\u001b[0;31m \u001b[0mprint\u001b[0m\u001b[0;34m(\u001b[0m\u001b[0mtype\u001b[0m\u001b[0;34m(\u001b[0m\u001b[0mlast_seen\u001b[0m\u001b[0;34m.\u001b[0m\u001b[0mtxt\u001b[0m\u001b[0;34m)\u001b[0m\u001b[0;34m)\u001b[0m\u001b[0;34m\u001b[0m\u001b[0;34m\u001b[0m\u001b[0m\n\u001b[0m\u001b[1;32m     22\u001b[0m \u001b[0;34m\u001b[0m\u001b[0m\n\u001b[1;32m     23\u001b[0m \u001b[0;34m\u001b[0m\u001b[0m\n",
      "\u001b[0;31mNameError\u001b[0m: name 'last_seen' is not defined"
     ]
    }
   ],
   "source": [
    "import tweepy\n",
    "import os\n",
    "\n",
    "#These are from the Tweepy developer references\n",
    "consumer_key = \"WbzGhwOKVVkEvYmEU2AnHESGP\"\n",
    "consumer_secret = \"XRqIKMGhUXrCc28Rd3pwomn3DlTMTTQQxYYuxfImXMdR1PwPMM\"\n",
    "key = \"1296891250596093953-FW0gyb9w1NDjkr9kfZgIrHLSnH9k3l\"\n",
    "secret = \"HRJY1jhCYl5hMlr7zhVY3ggfhicDqX1vN3bck8Fjvgpp7\"\n",
    "\n",
    "#These are all keys from the twitter developer account\n",
    "auth = tweepy.OAuthHandler(consumer_key, consumer_secret)\n",
    "auth.set_access_token(key, secret)\n",
    "\n",
    "#variables used also from the tweepy reference page\n",
    "api = tweepy.API(auth)\n",
    "\n",
    "tweets = api.mentions_timeline()\n",
    "\n",
    "# a text file created to store the last stored tweet id as not to create a loop of messaging every tweet\n",
    "FILE_Name = os.path.abspath(\"last_seen.txt\")\n",
    "print(type(last_seen.txt))\n",
    "\n",
    "\n",
    "#This will open the the last seen text  \n",
    "# def read_last_seen(FILE_NAME):\n",
    "#     file_read = open(FILE_NAME, 'r')\n",
    "# #this will store the read file into a new var called last_seen_id which should read it and strip it, into a number\n",
    "#     last_seen_id = (file_read.read().strip())\n",
    "#     file_read.close()\n",
    "#     return last_seen_id\n",
    "\n",
    "# def store_last_seen(FILE_NAME, last_seen_id ):\n",
    "#     file_write = open(FILE_NAME, 'w')\n",
    "#     file_write.write()\n",
    "\n",
    "# for tweet in tweets:\n",
    "#     if '#towvis' in tweet.text.lower():\n",
    "#         print(\"New Tweet Found!\")\n",
    "#         print(str(tweet.id) + ' --- ' + tweet.text)"
   ]
  },
  {
   "cell_type": "code",
   "execution_count": 4,
   "metadata": {},
   "outputs": [
    {
     "ename": "NameError",
     "evalue": "name 'last_seen' is not defined",
     "output_type": "error",
     "traceback": [
      "\u001b[0;31m---------------------------------------------------------------------------\u001b[0m",
      "\u001b[0;31mNameError\u001b[0m                                 Traceback (most recent call last)",
      "\u001b[0;32m<ipython-input-4-fd674d2113e3>\u001b[0m in \u001b[0;36m<module>\u001b[0;34m\u001b[0m\n\u001b[0;32m----> 1\u001b[0;31m \u001b[0mopen\u001b[0m\u001b[0;34m(\u001b[0m\u001b[0mlast_seen\u001b[0m\u001b[0;34m.\u001b[0m\u001b[0mtxt\u001b[0m\u001b[0;34m)\u001b[0m\u001b[0;34m\u001b[0m\u001b[0;34m\u001b[0m\u001b[0m\n\u001b[0m",
      "\u001b[0;31mNameError\u001b[0m: name 'last_seen' is not defined"
     ]
    }
   ],
   "source": [
    "open(last_seen.txt)"
   ]
  },
  {
   "cell_type": "code",
   "execution_count": null,
   "metadata": {},
   "outputs": [],
   "source": []
  }
 ],
 "metadata": {
  "kernelspec": {
   "display_name": "Python 3",
   "language": "python",
   "name": "python3"
  },
  "language_info": {
   "codemirror_mode": {
    "name": "ipython",
    "version": 3
   },
   "file_extension": ".py",
   "mimetype": "text/x-python",
   "name": "python",
   "nbconvert_exporter": "python",
   "pygments_lexer": "ipython3",
   "version": "3.7.6"
  }
 },
 "nbformat": 4,
 "nbformat_minor": 4
}
